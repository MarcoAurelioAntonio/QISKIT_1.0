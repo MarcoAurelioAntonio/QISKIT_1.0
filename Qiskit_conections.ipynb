{
 "cells": [
  {
   "cell_type": "code",
   "execution_count": 1,
   "metadata": {},
   "outputs": [],
   "source": [
    "import qiskit "
   ]
  },
  {
   "cell_type": "code",
   "execution_count": 2,
   "metadata": {},
   "outputs": [
    {
     "data": {
      "text/plain": [
       "'1.0.2'"
      ]
     },
     "execution_count": 2,
     "metadata": {},
     "output_type": "execute_result"
    }
   ],
   "source": [
    "qiskit.__version__"
   ]
  },
  {
   "cell_type": "code",
   "execution_count": 3,
   "metadata": {},
   "outputs": [],
   "source": [
    "# Save API token\n",
    "from qiskit_ibm_runtime import QiskitRuntimeService\n",
    "\n",
    "# Run in terminal ´pip install python-dotenv´, for importing the .env file\n",
    "from dotenv import load_dotenv\n",
    "import os\n",
    "\n",
    "# Load the .env file\n",
    "load_dotenv()\n",
    "\n",
    "# Save the API token\n",
    "MY_API_TOKEN = os.getenv(\"API_TOKEN\")\n",
    "\n",
    "# *** Check if the API token is saved ***\n",
    "# print(\"api_value: \", MY_API_TOKEN)\n",
    "\n",
    "# *** Authenticate to the service by calling QiskitRuntimeService with your IBM Quantum API key ***\n",
    "# service = QiskitRuntimeService(channel=\"ibm_quantum\", \n",
    "#                               token=MY_API_TOKEN)"
   ]
  },
  {
   "cell_type": "markdown",
   "metadata": {},
   "source": [
    "### Save the account to disk for future use.\n",
    "\n",
    "#### Args:\n",
    "- **token**: IBM Cloud API key or IBM Quantum API token.\n",
    "- **url**: The API URL.\n",
    "    - Defaults to:\n",
    "        - `https://cloud.ibm.com` (*ibm_cloud*) or\n",
    "        - `https://auth.quantum-computing.ibm.com/api` (*ibm_quantum*).\n",
    "- **instance**: The CRN (*ibm_cloud*) or hub/group/project (*ibm_quantum*).\n",
    "- **channel**: Channel type. *ibm_cloud* or *ibm_quantum*.\n",
    "- **filename**: Full path of the file where the account is saved.\n",
    "- **name**: Name of the account to save.\n",
    "- **proxies**: Proxy configuration. Supported optional keys are:\n",
    "    - *urls*: A dictionary mapping protocol or protocol and host to the URL of the proxy,\n",
    "    - *username_ntlm*, *password_ntlm*: Username and password to enable NTLM user authentication.\n",
    "- **verify**: Verify the server's TLS certificate.\n",
    "- **overwrite**: True if the existing account is to be overwritten.\n",
    "- **channel_strategy**: Error mitigation strategy.\n",
    "- **set_as_default**: If True, the account is saved in filename as the default account.\n"
   ]
  },
  {
   "cell_type": "code",
   "execution_count": 4,
   "metadata": {},
   "outputs": [],
   "source": [
    "# *** Or, optionally use the save_account() method to save your credentials \n",
    "# for easy access later on, before initializing the service. ***\n",
    "QiskitRuntimeService.save_account(channel=\"ibm_quantum\", token=MY_API_TOKEN, overwrite=True)\n",
    "# \"overwrite=true\", is because I already save it the cell before\n",
    "service = QiskitRuntimeService()\n",
    "\n",
    "# *** Check if the service is working ***\n",
    "backend = service.backend(\"ibmq_qasm_simulator\")"
   ]
  }
 ],
 "metadata": {
  "kernelspec": {
   "display_name": "beggining",
   "language": "python",
   "name": "python3"
  },
  "language_info": {
   "codemirror_mode": {
    "name": "ipython",
    "version": 3
   },
   "file_extension": ".py",
   "mimetype": "text/x-python",
   "name": "python",
   "nbconvert_exporter": "python",
   "pygments_lexer": "ipython3",
   "version": "3.12.3"
  }
 },
 "nbformat": 4,
 "nbformat_minor": 2
}
