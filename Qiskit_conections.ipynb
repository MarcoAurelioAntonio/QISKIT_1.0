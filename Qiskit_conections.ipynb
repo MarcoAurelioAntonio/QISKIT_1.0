{
 "cells": [
  {
   "cell_type": "code",
   "execution_count": 1,
   "metadata": {},
   "outputs": [],
   "source": [
    "import qiskit "
   ]
  },
  {
   "cell_type": "code",
   "execution_count": 2,
   "metadata": {},
   "outputs": [
    {
     "data": {
      "text/plain": [
       "'1.0.2'"
      ]
     },
     "execution_count": 2,
     "metadata": {},
     "output_type": "execute_result"
    }
   ],
   "source": [
    "qiskit.__version__"
   ]
  },
  {
   "cell_type": "code",
   "execution_count": 11,
   "metadata": {},
   "outputs": [],
   "source": [
    "# Save API token\n",
    "from qiskit_ibm_runtime import QiskitRuntimeService\n",
    "\n",
    "# Run in terminal ´pip install python-dotenv´, for importing the .env file\n",
    "from dotenv import load_dotenv\n",
    "import os\n",
    "\n",
    "# Load the .env file\n",
    "load_dotenv()\n",
    "\n",
    "# Save the API token\n",
    "MY_API_TOKEN = os.getenv(\"API_TOKEN\")\n",
    "\n",
    "# Check if the API token is saved\n",
    "# print(\"api_value: \", MY_API_TOKEN)\n",
    "\n",
    "# Create a QiskitRuntimeService object\n",
    "service = QiskitRuntimeService(channel=\"ibm_quantum\", \n",
    "                              token=MY_API_TOKEN)\n"
   ]
  }
 ],
 "metadata": {
  "kernelspec": {
   "display_name": "beggining",
   "language": "python",
   "name": "python3"
  },
  "language_info": {
   "codemirror_mode": {
    "name": "ipython",
    "version": 3
   },
   "file_extension": ".py",
   "mimetype": "text/x-python",
   "name": "python",
   "nbconvert_exporter": "python",
   "pygments_lexer": "ipython3",
   "version": "3.12.3"
  }
 },
 "nbformat": 4,
 "nbformat_minor": 2
}
